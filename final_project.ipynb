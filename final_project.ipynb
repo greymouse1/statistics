{
  "nbformat": 4,
  "nbformat_minor": 0,
  "metadata": {
    "colab": {
      "provenance": [],
      "authorship_tag": "ABX9TyOyYGoGFHvZztMR+DrRS6OB",
      "include_colab_link": true
    },
    "kernelspec": {
      "name": "python3",
      "display_name": "Python 3"
    },
    "language_info": {
      "name": "python"
    }
  },
  "cells": [
    {
      "cell_type": "markdown",
      "metadata": {
        "id": "view-in-github",
        "colab_type": "text"
      },
      "source": [
        "<a href=\"https://colab.research.google.com/github/greymouse1/statistics/blob/main/final_project.ipynb\" target=\"_parent\"><img src=\"https://colab.research.google.com/assets/colab-badge.svg\" alt=\"Open In Colab\"/></a>"
      ]
    },
    {
      "cell_type": "markdown",
      "source": [
        "Statistics final project"
      ],
      "metadata": {
        "id": "RSrysQTg9oSM"
      }
    },
    {
      "cell_type": "code",
      "source": [
        "import pandas\n",
        "from scipy import stats\n",
        "import numpy\n",
        "import itertools\n",
        "from tabulate import tabulate\n",
        "from statsmodels.stats.multicomp import pairwise_tukeyhsd\n",
        "from matplotlib import pyplot"
      ],
      "metadata": {
        "id": "PrlZ2q4zKbGy"
      },
      "execution_count": 2,
      "outputs": []
    },
    {
      "cell_type": "markdown",
      "source": [
        "# Imported functions"
      ],
      "metadata": {
        "id": "hFd-fTVMvc8F"
      }
    },
    {
      "cell_type": "code",
      "source": [
        "# Functions in this block are provided by the course lecturers\n",
        "# Some of the code in other cells was also take from the course\n",
        "# Python examples. Courtesy of the course lecturers.\n",
        "\n",
        "def get_confidence_interval(data, confidence=0.95):\n",
        "    \"\"\" Determines the confidence interval for a given set of data,\n",
        "        assuming the population standard deviation is not known.\n",
        "\n",
        "    Args:  # 'arguments', or inputs to the function\n",
        "        data (single-column or list): The data\n",
        "        confidence (float): The confidence level on which to produce the interval.\n",
        "\n",
        "    Returns:\n",
        "        c_interval (tuple): The confidence interval on the given data (lower, upper).\n",
        "    \"\"\"\n",
        "\n",
        "    n = len(data)  # determines the sample size\n",
        "    m = numpy.mean(data)  # obtains mean of the sample\n",
        "\n",
        "    se = stats.sem(data)  # obtains standard error of the sample\n",
        "\n",
        "    c_interval = stats.t.interval(confidence, n-1, m, se)  # determines the confidence interval\n",
        "    return c_interval  # which is of the form (lower bound, upper bound)\n",
        "\n",
        "def t_test(data_group1, data_group2, confidence=0.95):\n",
        "    alpha = 1-confidence\n",
        "\n",
        "    if stats.levene(data_group1, data_group2)[1]>alpha:\n",
        "        equal_variance = True\n",
        "    else:\n",
        "        equal_variance = False\n",
        "\n",
        "    t, p = stats.ttest_ind(data_group1, data_group2, equal_var = equal_variance)\n",
        "\n",
        "    reject_H0 = \"True\"\n",
        "    if p > alpha:\n",
        "        reject_H0 = \"False\"\n",
        "\n",
        "    return({'t': t, \"p\": p, \"Reject H0\": reject_H0})\n",
        "\n",
        "def ANOVA(dataset,independent,dependent,confidence = 0.95):\n",
        "    \"\"\" Calculates the ANOVA for a given dataset and prints an ANOVA table\n",
        "        and results of post hoc test if test was performed.\n",
        "\n",
        "    Args:  # 'arguments', or inputs to the function\n",
        "        dataset (pandas.DataFrame): The data\n",
        "        independent (string): The name of the independent column.\n",
        "        dependent (string): The name of the dependent column.\n",
        "        confidence (float): The desired confidence level for the ANOVA.\n",
        "\n",
        "    Returns:\n",
        "        None.\n",
        "    \"\"\"\n",
        "    groups = pandas.unique(dataset[independent])\n",
        "    k = len(groups)  # number of groups\n",
        "    n = len(dataset[dependent])  # number of dependent data points\n",
        "\n",
        "    # here we calculate the three degrees of freedom used in the ANOVA\n",
        "    DFbetween = k - 1\n",
        "    DFwithin = n - k\n",
        "    DFtotal = n - 1\n",
        "\n",
        "    # we use textbook notation:\n",
        "    # x_dd = sum over i and j x_ij\n",
        "    # x_id = sum over j x_ij\n",
        "    # x_dj = sum over i x_ij\n",
        "    # where i is the independent variable and j is the dependent variable\n",
        "\n",
        "    x_dd = sum(dataset[dependent])\n",
        "    CF = (x_dd**2)/n\n",
        "\n",
        "    SStotal = sum(x_ij**2 for x_ij in dataset[dependent]) - CF\n",
        "\n",
        "    SSbetween = 0\n",
        "    for i in groups:\n",
        "        group_data = dataset.loc[dataset[independent]==i]\n",
        "        n_i = len(group_data[dependent])\n",
        "        x_id = sum(group_data[dependent])\n",
        "        SSbetween += (x_id**2)/n_i\n",
        "\n",
        "    SSbetween = SSbetween - CF  # so^2 - s^2\n",
        "\n",
        "    SSwithin = SStotal - SSbetween\n",
        "\n",
        "    MSbetween = SSbetween/DFbetween\n",
        "    MSwithin = SSwithin/DFwithin\n",
        "\n",
        "    F = MSbetween/MSwithin\n",
        "    p = stats.f.sf(F, DFbetween, DFwithin)\n",
        "\n",
        "    print(tabulate([['Between', DFbetween, SSbetween, MSbetween, F],\n",
        "                    ['Within', DFwithin, SSwithin, MSwithin, ' '],\n",
        "                    ['Total', DFtotal, SStotal, ' ', ' ']],\n",
        "    headers=['Variation due to', 'DoF','Sum of squares','mean squares','F ratio']))\n",
        "    print('Significance (p value): '+str(p))\n",
        "    print('\\n')\n",
        "    alpha = 1-confidence\n",
        "    if p < alpha:\n",
        "        print(\"Reject null-hypothesis: There are statistical differences present.\")\n",
        "        print(pairwise_tukeyhsd(dataset[dependent], dataset[independent], alpha=alpha))\n",
        "    else:\n",
        "        print(\"Fail to reject the null-hypothesis: There are no statistical differences present at this level of significance.\")"
      ],
      "metadata": {
        "id": "JWx-qHbaLi_g"
      },
      "execution_count": 3,
      "outputs": []
    },
    {
      "cell_type": "markdown",
      "source": [
        "# First question"
      ],
      "metadata": {
        "id": "x7UX5U1mvllz"
      }
    },
    {
      "cell_type": "code",
      "execution_count": 34,
      "metadata": {
        "id": "3N0rXRSk9mIX"
      },
      "outputs": [],
      "source": [
        "# First step is to load the csv file\n",
        "\n",
        "# URL for csv\n",
        "data_url = \"https://raw.githubusercontent.com/greymouse1/statistics/refs/heads/main/PRO1_dataset.csv\"\n",
        "\n",
        "# Loaded file into data frame\n",
        "df = pandas.read_csv(data_url)\n",
        "\n",
        "# Calculate year mean in new column\n",
        "df[\"year_mean\"] = df.iloc[:,1:].mean(axis=1)\n",
        "\n",
        "# Since we need decades I will remove years from 1756-1759 (inclusive)\n",
        "# and year 2020. Decades will start at year ending with 0 and stop at\n",
        "# year ending with 9. Otherwise I can't avoid having one uncomplete decade\n",
        "# so this is for the sake of simplicity\n",
        "df.drop(df.index[0:4], inplace=True)\n",
        "df.drop(df[df[\"year\"]==2020].index, inplace=True)\n",
        "\n",
        "# Reset the index\n",
        "df = df.reset_index(drop=True)\n",
        "\n",
        "# Create column for decade\n",
        "# This will be first year of the decade but will include\n",
        "# the data for that year and all subsequent 9 years\n",
        "# For example, decade 1760 is decade with data for interval 1760-1769 (inc)\n",
        "df[\"decade\"] = (df[\"year\"]//10) * 10\n",
        "\n",
        "# Group values into new dataframe by year\n",
        "df_decade = df.groupby(\"decade\").agg({\"year_mean\": \"mean\"}).reset_index()\n",
        "\n",
        "# Rename column name for decade means\n",
        "df_decade.rename(columns={\"year_mean\":\"decade_mean\"}, inplace=True)"
      ]
    },
    {
      "cell_type": "code",
      "source": [
        "# As a general assumption, we assume all years should have same means\n",
        "# Then we can look at all decades as one dataset or all years as one dataset\n",
        "\n",
        "# First let's use the index plot\n",
        "# Indices will be each decade\n",
        "\n",
        "fig = pyplot.Figure(figsize=(12, 4))\n",
        "ax1 = fig.add_subplot(1, 2, 1)\n",
        "ax2 = fig.add_subplot(1, 2, 2)\n",
        "\n",
        "df_decade.reset_index().plot(x='index', y=\"decade_mean\", kind='scatter', ax=ax1)\n",
        "df.reset_index().plot(x='index', y=\"year_mean\", kind='scatter', ax=ax2)\n",
        "\n",
        "ax1.set(\n",
        "        xlabel='Index (decades)',\n",
        "        ylabel='$x$'\n",
        "    )\n",
        "ax2.set(\n",
        "        xlabel='Index (years)',\n",
        "        ylabel='$x$'\n",
        "    )\n",
        "fig\n",
        "\n",
        "# There seem to be some outliers in the top right corner for the last two decades"
      ],
      "metadata": {
        "id": "WM2Yyy1qjFNX"
      },
      "execution_count": null,
      "outputs": []
    },
    {
      "cell_type": "code",
      "source": [
        "# Let's see how histograms look like\n",
        "fig = pyplot.Figure(figsize=(12, 4))\n",
        "ax1 = fig.add_subplot(1, 2, 1)\n",
        "ax2 = fig.add_subplot(1, 2, 2)\n",
        "\n",
        "df[\"year_mean\"].plot(kind=\"hist\", bins=10, alpha = 0.7, ax=ax1)\n",
        "df_decade[\"decade_mean\"].plot(kind=\"hist\", bins=5, alpha = 0.7, ax=ax2)\n",
        "\n",
        "ax1.set(\n",
        "        xlabel='$x$',\n",
        "        ylabel='Frequency'\n",
        "    )\n",
        "ax2.set(\n",
        "        xlabel='$x$',\n",
        "        ylabel='Frequency'\n",
        "    )\n",
        "fig\n",
        "\n",
        "# When looking at years, it may be that the data is normally distributed while for the decades we ahave only 26\n",
        "# data points and creating histogram will be inconclusive based on the number of bins we decide to choose"
      ],
      "metadata": {
        "id": "e35yahrmsPkE"
      },
      "execution_count": null,
      "outputs": []
    },
    {
      "cell_type": "code",
      "source": [
        "fig = pyplot.Figure(figsize=(12, 4))\n",
        "ax1 = fig.add_subplot(1, 2, 1)\n",
        "ax2 = fig.add_subplot(1, 2, 2)\n",
        "\n",
        "df.boxplot(column=\"year_mean\", ax=ax1)\n",
        "df_decade.boxplot(column=\"decade_mean\", ax=ax2)\n",
        "\n",
        "ax1.set(\n",
        "        xlabel='Sample',\n",
        "        ylabel='$x$'\n",
        "    )\n",
        "\n",
        "ax2.set(\n",
        "        xlabel='Sample',\n",
        "        ylabel='$x$'\n",
        "    )\n",
        "fig\n",
        "\n",
        "# He we compare box plot for all years and for all decades\n",
        "# There seem to be some decades which stand out of the mean for all the decades"
      ],
      "metadata": {
        "id": "ME67TSFFubFi"
      },
      "execution_count": null,
      "outputs": []
    },
    {
      "cell_type": "code",
      "source": [
        "# To check for years which could stand out for each individual decade, there has to be a box plot for\n",
        "# each of the decades\n",
        "# Create a figure with a specified size\n",
        "fig, ax = pyplot.subplots(figsize=(12, 6))  # Use the appropriate size here\n",
        "\n",
        "# Plot the boxplot for temperatures by decade\n",
        "df.boxplot(column='year_mean', by='decade', patch_artist=True, ax=ax)\n",
        "\n",
        "# Adding labels and title\n",
        "ax.set_title('Yearly Temperature Distribution by Decade')\n",
        "pyplot.suptitle('')  # Remove the default title generated by `boxplot()`\n",
        "ax.set_xlabel('Decade')\n",
        "ax.set_ylabel('Temperature')\n",
        "\n",
        "# Show the plot\n",
        "pyplot.show()\n",
        "\n",
        "fig.savefig('temperature_distribution.png')\n",
        "\n"
      ],
      "metadata": {
        "id": "p7HqzLAhvHvu"
      },
      "execution_count": null,
      "outputs": []
    },
    {
      "cell_type": "markdown",
      "source": [
        "# Second question\n"
      ],
      "metadata": {
        "id": "pU8PfDT4vsuH"
      }
    },
    {
      "cell_type": "code",
      "source": [
        "# Data now has to be grouped by century\n",
        "# For this I use original dataset\n",
        "df[\"century\"] = (df[\"year\"]//100) + 1\n",
        "\n",
        "# Separate by century\n",
        "df_19th = df[df[\"century\"] == 19][\"year_mean\"].reset_index(drop=True)\n",
        "df_20th = df[df[\"century\"] == 20][\"year_mean\"].reset_index(drop=True)\n",
        "\n",
        "# Group values into new dataframe by century\n",
        "df_century = pandas.concat({\"19th\": df_19th, \"20th\": df_20th}, axis=1)\n",
        "\n",
        "# Create a figure with a specified size\n",
        "specific_centuries = [19, 20]\n",
        "filtered_df = df[df[\"century\"].isin(specific_centuries)]\n",
        "fig, ax = pyplot.subplots(figsize=(6, 3))  # Use the appropriate size here\n",
        "\n",
        "# Plot the boxplot for temperatures by decade\n",
        "filtered_df.boxplot(column='year_mean', by='century', patch_artist=True, ax=ax)\n",
        "\n",
        "# Adding labels and title\n",
        "ax.set_title('Yearly Temperature Distribution by century')\n",
        "pyplot.suptitle('')  # Remove the default title generated by `boxplot()`\n",
        "ax.set_xlabel('Century')\n",
        "ax.set_ylabel('Temperature')\n",
        "\n",
        "# Show the plot\n",
        "pyplot.show()\n",
        "fig.savefig('temperature_distribution_centuries.png')"
      ],
      "metadata": {
        "colab": {
          "base_uri": "https://localhost:8080/",
          "height": 327
        },
        "id": "NIRdOf7Yv0B2",
        "outputId": "b7f8299b-8e8c-469c-daab-10d341daf76d"
      },
      "execution_count": 31,
      "outputs": [
        {
          "output_type": "display_data",
          "data": {
            "text/plain": [
              "<Figure size 600x300 with 1 Axes>"
            ],
            "image/png": "[encoded data removed]"
          },
          "metadata": {}
        }
      ]
    },
    {
      "cell_type": "code",
      "source": [
        "# Get group statistics\n",
        "print(df_century.describe())"
      ],
      "metadata": {
        "colab": {
          "base_uri": "https://localhost:8080/"
        },
        "id": "OV88eYPR4D2A",
        "outputId": "d4593169-c18c-4012-cae4-c39aaa54dd62"
      },
      "execution_count": 28,
      "outputs": [
        {
          "output_type": "stream",
          "name": "stdout",
          "text": [
            "             19th        20th\n",
            "count  100.000000  100.000000\n",
            "mean     5.383000    5.924500\n",
            "std      0.880564    0.932591\n",
            "min      3.225000    3.766667\n",
            "25%      4.789583    5.231250\n",
            "50%      5.433333    5.970833\n",
            "75%      5.931250    6.591667\n",
            "max      7.508333    7.766667\n"
          ]
        }
      ]
    },
    {
      "cell_type": "code",
      "source": [
        "# Check the confidence intervals\n",
        "print(\"Century 19\", get_confidence_interval(df_century[\"19th\"], confidence=0.95))\n",
        "print(\"Century 20:\", get_confidence_interval(df_century[\"20th\"], confidence=0.95))"
      ],
      "metadata": {
        "colab": {
          "base_uri": "https://localhost:8080/"
        },
        "id": "PcRxRdN65koT",
        "outputId": "3ec851fd-c400-4d2a-f707-d7ddb425c180"
      },
      "execution_count": 32,
      "outputs": [
        {
          "output_type": "stream",
          "name": "stdout",
          "text": [
            "Century 19 (5.208277026966438, 5.55772297303356)\n",
            "Century 20: (5.739453691071155, 6.109546308928845)\n"
          ]
        }
      ]
    },
    {
      "cell_type": "code",
      "source": [
        "# t-test\n",
        "t_test(df_century[\"19th\"], df_century[\"20th\"], confidence=0.95)"
      ],
      "metadata": {
        "colab": {
          "base_uri": "https://localhost:8080/"
        },
        "id": "DFceZk7S7vaS",
        "outputId": "0c0b28b7-cdca-4d8f-eb07-5fee548f6787"
      },
      "execution_count": 33,
      "outputs": [
        {
          "output_type": "execute_result",
          "data": {
            "text/plain": [
              "{'t': -4.221821014169013, 'p': 3.691203654325795e-05, 'Reject H0': 'True'}"
            ]
          },
          "metadata": {},
          "execution_count": 33
        }
      ]
    },
    {
      "cell_type": "markdown",
      "source": [
        "# Third question"
      ],
      "metadata": {
        "id": "r9okQ5eJ978v"
      }
    },
    {
      "cell_type": "code",
      "source": [
        "# Create new df for the last five centuries\n",
        "\n",
        "decade1970 = df[df[\"decade\"] == 1970][\"year_mean\"].reset_index(drop=True)\n",
        "decade1980 = df[df[\"decade\"] == 1980][\"year_mean\"].reset_index(drop=True)\n",
        "decade1990 = df[df[\"decade\"] == 1990][\"year_mean\"].reset_index(drop=True)\n",
        "decade2000 = df[df[\"decade\"] == 2000][\"year_mean\"].reset_index(drop=True)\n",
        "decade2010 = df[df[\"decade\"] == 2010][\"year_mean\"].reset_index(drop=True)\n",
        "df_five_decades = pandas.concat({\"1970\": decade1970, \"1980\": decade1980, \"1990\": decade1990, \"2000\": decade2000, \"2010\": decade2010}, axis=1)\n",
        "\n",
        "# Shapiro-Wilk test\n",
        "for decade in df_five_decades.columns:\n",
        "    print(f\"Results of the Shapiro-Wilk for decade {decade}:\", stats.shapiro(df_five_decades[decade]))"
      ],
      "metadata": {
        "id": "T-9S700Q-AeA",
        "outputId": "8a492de3-c403-4302-e689-88f48de0e374",
        "colab": {
          "base_uri": "https://localhost:8080/"
        }
      },
      "execution_count": 42,
      "outputs": [
        {
          "output_type": "stream",
          "name": "stdout",
          "text": [
            "Results of the Shapiro-Wilk for decade 1970: ShapiroResult(statistic=0.9552057416778831, pvalue=0.7301313162255954)\n",
            "Results of the Shapiro-Wilk for decade 1980: ShapiroResult(statistic=0.9608368317205853, pvalue=0.795371539242413)\n",
            "Results of the Shapiro-Wilk for decade 1990: ShapiroResult(statistic=0.9691167689778933, pvalue=0.8825374018169061)\n",
            "Results of the Shapiro-Wilk for decade 2000: ShapiroResult(statistic=0.9001039144884672, pvalue=0.21967260968499958)\n",
            "Results of the Shapiro-Wilk for decade 2010: ShapiroResult(statistic=0.8328435098902556, pvalue=0.03620443531427971)\n"
          ]
        }
      ]
    },
    {
      "cell_type": "code",
      "source": [
        "fig = pyplot.Figure(figsize=(6, 4))\n",
        "ax1 = fig.add_subplot(111)\n",
        "\n",
        "df_five_decades.reset_index().plot(x='index', y=\"2010\", kind='scatter', ax=ax1)\n",
        "\n",
        "\n",
        "ax1.set(\n",
        "        xlabel='Index (decades)',\n",
        "        ylabel='$x$'\n",
        "    )\n",
        "fig\n",
        "fig.savefig('five_decades.png')"
      ],
      "metadata": {
        "id": "S8hFLxmeHBIj"
      },
      "execution_count": 54,
      "outputs": []
    },
    {
      "cell_type": "code",
      "source": [
        "# Leven test\n",
        "for decade1, decade2 in itertools.combinations(df_five_decades.columns,2):\n",
        "    print(decade1, decade2, stats.levene(df_five_decades[decade1], df_five_decades[decade2]))"
      ],
      "metadata": {
        "id": "FyMzjbTjNK2n",
        "outputId": "d9948c72-8264-414f-ea20-609f1ba703f2",
        "colab": {
          "base_uri": "https://localhost:8080/"
        }
      },
      "execution_count": 55,
      "outputs": [
        {
          "output_type": "stream",
          "name": "stdout",
          "text": [
            "1970 1980 LeveneResult(statistic=0.3771505103593811, pvalue=0.5468165148991677)\n",
            "1970 1990 LeveneResult(statistic=2.7402882184945696, pvalue=0.11517724015339009)\n",
            "1970 2000 LeveneResult(statistic=9.033172369025202, pvalue=0.0075936339020948795)\n",
            "1970 2010 LeveneResult(statistic=0.42367246352591864, pvalue=0.5233332381326172)\n",
            "1980 1990 LeveneResult(statistic=4.260807486782205, pvalue=0.05372032776839711)\n",
            "1980 2000 LeveneResult(statistic=9.919413039705182, pvalue=0.005544290457596225)\n",
            "1980 2010 LeveneResult(statistic=1.2360322903410645, pvalue=0.2808665172433904)\n",
            "1990 2000 LeveneResult(statistic=1.5234781630107561, pvalue=0.23296629173431907)\n",
            "1990 2010 LeveneResult(statistic=0.36050831805345657, pvalue=0.5557091388424802)\n",
            "2000 2010 LeveneResult(statistic=1.9568684718578322, pvalue=0.17884364628329105)\n"
          ]
        }
      ]
    },
    {
      "cell_type": "code",
      "source": [
        "# Welch ANOVA for unequal variances\n",
        "f_stat, p_value = stats.f_oneway(\n",
        "    df_five_decades['1970'],\n",
        "    df_five_decades['1980'],\n",
        "    df_five_decades['1990'],\n",
        "    df_five_decades['2000'],\n",
        "    df_five_decades['2010']\n",
        ")\n",
        "print(f\"F-statistic: {f_stat}\")\n",
        "print(f\"p-value: {p_value}\")"
      ],
      "metadata": {
        "id": "BfwwndOaQc0_",
        "outputId": "93f58b47-a268-4517-d828-65859247c82a",
        "colab": {
          "base_uri": "https://localhost:8080/"
        }
      },
      "execution_count": 56,
      "outputs": [
        {
          "output_type": "stream",
          "name": "stdout",
          "text": [
            "F-statistic: 6.774380653865249\n",
            "p-value: 0.00023431780280838745\n"
          ]
        }
      ]
    },
    {
      "cell_type": "code",
      "source": [
        "# Posthoc\n",
        "df_long = df_five_decades.melt(var_name='decade', value_name='temperature')\n",
        "\n",
        "df_long.head()\n",
        "\n",
        "!pip install pingouin\n",
        "import pingouin as pg\n",
        "\n",
        "# Perform the Games-Howell post-hoc test\n",
        "posthoc = pg.pairwise_gameshowell(dv='temperature', between='decade', data=df_long)\n",
        "\n",
        "# Display the results\n",
        "print(posthoc)"
      ],
      "metadata": {
        "id": "tcQvfvYITsXY",
        "outputId": "b2583ed5-3be0-409a-ffed-767a28d322bc",
        "colab": {
          "base_uri": "https://localhost:8080/"
        }
      },
      "execution_count": 59,
      "outputs": [
        {
          "output_type": "stream",
          "name": "stdout",
          "text": [
            "Collecting pingouin\n",
            "  Downloading pingouin-0.5.5-py3-none-any.whl.metadata (19 kB)\n",
            "Requirement already satisfied: matplotlib in /usr/local/lib/python3.10/dist-packages (from pingouin) (3.8.0)\n",
            "Requirement already satisfied: numpy in /usr/local/lib/python3.10/dist-packages (from pingouin) (1.26.4)\n",
            "Requirement already satisfied: pandas>=1.5 in /usr/local/lib/python3.10/dist-packages (from pingouin) (2.2.2)\n",
            "Collecting pandas-flavor (from pingouin)\n",
            "  Downloading pandas_flavor-0.6.0-py3-none-any.whl.metadata (6.3 kB)\n",
            "Requirement already satisfied: scikit-learn>=1.2 in /usr/local/lib/python3.10/dist-packages (from pingouin) (1.6.0)\n",
            "Requirement already satisfied: scipy in /usr/local/lib/python3.10/dist-packages (from pingouin) (1.13.1)\n",
            "Requirement already satisfied: seaborn in /usr/local/lib/python3.10/dist-packages (from pingouin) (0.13.2)\n",
            "Requirement already satisfied: statsmodels in /usr/local/lib/python3.10/dist-packages (from pingouin) (0.14.4)\n",
            "Requirement already satisfied: tabulate in /usr/local/lib/python3.10/dist-packages (from pingouin) (0.9.0)\n",
            "Requirement already satisfied: python-dateutil>=2.8.2 in /usr/local/lib/python3.10/dist-packages (from pandas>=1.5->pingouin) (2.8.2)\n",
            "Requirement already satisfied: pytz>=2020.1 in /usr/local/lib/python3.10/dist-packages (from pandas>=1.5->pingouin) (2024.2)\n",
            "Requirement already satisfied: tzdata>=2022.7 in /usr/local/lib/python3.10/dist-packages (from pandas>=1.5->pingouin) (2024.2)\n",
            "Requirement already satisfied: joblib>=1.2.0 in /usr/local/lib/python3.10/dist-packages (from scikit-learn>=1.2->pingouin) (1.4.2)\n",
            "Requirement already satisfied: threadpoolctl>=3.1.0 in /usr/local/lib/python3.10/dist-packages (from scikit-learn>=1.2->pingouin) (3.5.0)\n",
            "Requirement already satisfied: contourpy>=1.0.1 in /usr/local/lib/python3.10/dist-packages (from matplotlib->pingouin) (1.3.1)\n",
            "Requirement already satisfied: cycler>=0.10 in /usr/local/lib/python3.10/dist-packages (from matplotlib->pingouin) (0.12.1)\n",
            "Requirement already satisfied: fonttools>=4.22.0 in /usr/local/lib/python3.10/dist-packages (from matplotlib->pingouin) (4.55.3)\n",
            "Requirement already satisfied: kiwisolver>=1.0.1 in /usr/local/lib/python3.10/dist-packages (from matplotlib->pingouin) (1.4.7)\n",
            "Requirement already satisfied: packaging>=20.0 in /usr/local/lib/python3.10/dist-packages (from matplotlib->pingouin) (24.2)\n",
            "Requirement already satisfied: pillow>=6.2.0 in /usr/local/lib/python3.10/dist-packages (from matplotlib->pingouin) (11.0.0)\n",
            "Requirement already satisfied: pyparsing>=2.3.1 in /usr/local/lib/python3.10/dist-packages (from matplotlib->pingouin) (3.2.0)\n",
            "Requirement already satisfied: xarray in /usr/local/lib/python3.10/dist-packages (from pandas-flavor->pingouin) (2024.11.0)\n",
            "Requirement already satisfied: patsy>=0.5.6 in /usr/local/lib/python3.10/dist-packages (from statsmodels->pingouin) (1.0.1)\n",
            "Requirement already satisfied: six>=1.5 in /usr/local/lib/python3.10/dist-packages (from python-dateutil>=2.8.2->pandas>=1.5->pingouin) (1.17.0)\n",
            "Downloading pingouin-0.5.5-py3-none-any.whl (204 kB)\n",
            "\u001b[2K   \u001b[90m━━━━━━━━━━━━━━━━━━━━━━━━━━━━━━━━━━━━━━━━\u001b[0m \u001b[32m204.4/204.4 kB\u001b[0m \u001b[31m4.3 MB/s\u001b[0m eta \u001b[36m0:00:00\u001b[0m\n",
            "\u001b[?25hDownloading pandas_flavor-0.6.0-py3-none-any.whl (7.2 kB)\n",
            "Installing collected packages: pandas-flavor, pingouin\n",
            "Successfully installed pandas-flavor-0.6.0 pingouin-0.5.5\n",
            "      A     B   mean(A)   mean(B)      diff        se         T         df  \\\n",
            "0  1970  1980  6.017500  5.750833  0.266667  0.471432  0.565652  17.312464   \n",
            "1  1970  1990  6.017500  6.673333 -0.655833  0.356462 -1.839840  15.511605   \n",
            "2  1970  2000  6.017500  7.236667 -1.219167  0.321509 -3.792010  11.836675   \n",
            "3  1970  2010  6.017500  7.269167 -1.251667  0.410154 -3.051701  17.939959   \n",
            "4  1980  1990  5.750833  6.673333 -0.922500  0.413951 -2.228525  13.755692   \n",
            "5  1980  2000  5.750833  7.236667 -1.485833  0.384263 -3.866705  10.921081   \n",
            "6  1980  2010  5.750833  7.269167 -1.518333  0.460995 -3.293602  16.907456   \n",
            "7  1990  2000  6.673333  7.236667 -0.563333  0.229075 -2.459167  14.951079   \n",
            "8  1990  2010  6.673333  7.269167 -0.595833  0.342539 -1.739460  16.027593   \n",
            "9  2000  2010  7.236667  7.269167 -0.032500  0.306000 -0.106209  12.164018   \n",
            "\n",
            "       pval    hedges  \n",
            "0  0.978376  0.242279  \n",
            "1  0.387291 -0.788035  \n",
            "2  0.018088 -1.624183  \n",
            "3  0.047406 -1.307096  \n",
            "4  0.226305 -0.954516  \n",
            "5  0.017959 -1.656176  \n",
            "6  0.030589 -1.410706  \n",
            "7  0.153125 -1.053303  \n",
            "8  0.439306 -0.745041  \n",
            "9  0.999967 -0.045491  \n"
          ]
        }
      ]
    }
  ]
}